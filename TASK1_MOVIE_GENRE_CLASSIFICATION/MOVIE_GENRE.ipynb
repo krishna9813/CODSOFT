{
  "cells": [
    {
      "cell_type": "markdown",
      "source": [
        "**NAME : ABHINAV KRISHNA B**"
      ],
      "metadata": {
        "id": "Pu-rNagn9o-8"
      }
    },
    {
      "cell_type": "markdown",
      "source": [
        "\n",
        "**LOAD LIBRARIES AND CONVERT TEXT DATASET INTO CSV FILE**"
      ],
      "metadata": {
        "id": "u3tFKz5M8mWc"
      }
    },
    {
      "cell_type": "code",
      "execution_count": null,
      "metadata": {
        "colab": {
          "base_uri": "https://localhost:8080/"
        },
        "id": "5D_2tubAz3_S",
        "outputId": "558157f3-7fab-46e8-e590-73237632e788"
      },
      "outputs": [
        {
          "output_type": "stream",
          "name": "stdout",
          "text": [
            "   ID                             TITLE     GENRE  \\\n",
            "0   1      Oscar et la dame rose (2009)     drama   \n",
            "1   2                      Cupid (1997)  thriller   \n",
            "2   3  Young, Wild and Wonderful (1980)     adult   \n",
            "3   4             The Secret Sin (1915)     drama   \n",
            "4   5            The Unrecovered (2007)     drama   \n",
            "\n",
            "                                         DESCRIPTION  \n",
            "0  Listening in to a conversation between his doc...  \n",
            "1  A brother and sister with a past incestuous re...  \n",
            "2  As the bus empties the students for their fiel...  \n",
            "3  To help their unemployed father make ends meet...  \n",
            "4  The film's title refers not only to the un-rec...  \n",
            "   ID                        TITLE  \\\n",
            "0   1         Edgar's Lunch (1998)   \n",
            "1   2     La guerra de papá (1977)   \n",
            "2   3  Off the Beaten Track (2010)   \n",
            "3   4       Meu Amigo Hindu (2015)   \n",
            "4   5            Er nu zhai (1955)   \n",
            "\n",
            "                                         DESCRIPTION  \n",
            "0  L.R. Brane loves his life - his car, his apart...  \n",
            "1  Spain, March 1964: Quico is a very naughty chi...  \n",
            "2  One year in the life of Albin and his family o...  \n",
            "3  His father has died, he hasn't spoken with his...  \n",
            "4  Before he was known internationally as a marti...  \n",
            "   ID                        TITLE        GENRE  \\\n",
            "0   1         Edgar's Lunch (1998)     thriller   \n",
            "1   2     La guerra de papá (1977)       comedy   \n",
            "2   3  Off the Beaten Track (2010)  documentary   \n",
            "3   4       Meu Amigo Hindu (2015)        drama   \n",
            "4   5            Er nu zhai (1955)        drama   \n",
            "\n",
            "                                         DESCRIPTION  \n",
            "0  L.R. Brane loves his life - his car, his apart...  \n",
            "1  Spain, March 1964: Quico is a very naughty chi...  \n",
            "2  One year in the life of Albin and his family o...  \n",
            "3  His father has died, he hasn't spoken with his...  \n",
            "4  Before he was known internationally as a marti...  \n"
          ]
        }
      ],
      "source": [
        "import pandas as pd\n",
        "\n",
        "train_file_path = '/content/drive/MyDrive/Genre Classification Dataset/train_data.txt'\n",
        "test_file_path = '/content/drive/MyDrive/Genre Classification Dataset/test_data.txt'\n",
        "test_solution_file_path ='/content/drive/MyDrive/Genre Classification Dataset/test_data_solution.txt'\n",
        "\n",
        "train_data = pd.read_csv(train_file_path, sep=' ::: ', engine='python', names=['ID', 'TITLE', 'GENRE', 'DESCRIPTION'])\n",
        "test_data = pd.read_csv(test_file_path, sep=' ::: ', engine='python', names=['ID', 'TITLE', 'DESCRIPTION'])\n",
        "test_data_solution = pd.read_csv(test_solution_file_path, sep=' ::: ', engine='python', names=['ID', 'TITLE', 'GENRE', 'DESCRIPTION'])\n",
        "\n",
        "\n",
        "print(train_data.head())\n",
        "print(test_data.head())\n",
        "print(test_data_solution.head())"
      ]
    },
    {
      "cell_type": "markdown",
      "source": [
        "**IMPORT NLTK LIBRARY FOR PREPROCESSING OF THE MOVIE SYNOPSIS**"
      ],
      "metadata": {
        "id": "Eu0IkXiM8v4s"
      }
    },
    {
      "cell_type": "markdown",
      "source": [],
      "metadata": {
        "id": "S8t-DZBh8jwN"
      }
    },
    {
      "cell_type": "code",
      "execution_count": null,
      "metadata": {
        "colab": {
          "base_uri": "https://localhost:8080/"
        },
        "id": "0zrFpJYxz4Rz",
        "outputId": "b35447d1-d950-40f8-8be0-64d7930f9e1d"
      },
      "outputs": [
        {
          "output_type": "stream",
          "name": "stderr",
          "text": [
            "[nltk_data] Downloading package punkt to /root/nltk_data...\n",
            "[nltk_data]   Unzipping tokenizers/punkt.zip.\n",
            "[nltk_data] Downloading package stopwords to /root/nltk_data...\n",
            "[nltk_data]   Unzipping corpora/stopwords.zip.\n"
          ]
        }
      ],
      "source": [
        "import nltk\n",
        "from nltk.corpus import stopwords\n",
        "from nltk.tokenize import word_tokenize\n",
        "import string\n",
        "\n",
        "# Download NLTK data\n",
        "nltk.download('punkt')\n",
        "nltk.download('stopwords')\n",
        "\n",
        "# Function to preprocess text\n",
        "def preprocess_text(text):\n",
        "    # Tokenize text\n",
        "    tokens = word_tokenize(text)\n",
        "    # Convert to lower case\n",
        "    tokens = [token.lower() for token in tokens]\n",
        "    # Remove punctuation\n",
        "    tokens = [token for token in tokens if token.isalnum()]\n",
        "    # Remove stopwords\n",
        "    tokens = [token for token in tokens if token not in stopwords.words('english')]\n",
        "    # Join tokens back into a single string\n",
        "    return ' '.join(tokens)\n",
        "\n",
        "# Apply preprocessing to the plot descriptions\n",
        "train_data['DESCRIPTION_CLEANED'] = train_data['DESCRIPTION'].apply(preprocess_text)\n",
        "test_data['DESCRIPTION_CLEANED'] = test_data['DESCRIPTION'].apply(preprocess_text)\n",
        "test_data_solution['DESCRIPTION_CLEANED'] = test_data_solution['DESCRIPTION'].apply(preprocess_text)"
      ]
    },
    {
      "cell_type": "markdown",
      "source": [
        "**TFID VECTORIZER IS APPLIED FOR FEATURE EXTRACTION FROM THE TEXT**"
      ],
      "metadata": {
        "id": "DI-a508O85GP"
      }
    },
    {
      "cell_type": "code",
      "execution_count": null,
      "metadata": {
        "id": "17zodryC2sSW"
      },
      "outputs": [],
      "source": [
        "from sklearn.feature_extraction.text import TfidfVectorizer\n",
        "\n",
        "# Initialize the TF-IDF vectorizer\n",
        "tfidf_vectorizer = TfidfVectorizer(max_features=5000)\n",
        "\n",
        "# Fit and transform the training data, transform the test data\n",
        "X_train_tfidf = tfidf_vectorizer.fit_transform(train_data['DESCRIPTION_CLEANED'])\n",
        "X_test_tfidf = tfidf_vectorizer.transform(test_data['DESCRIPTION_CLEANED'])\n",
        "\n",
        "# Extract the labels\n",
        "y_train = train_data['GENRE']\n"
      ]
    },
    {
      "cell_type": "markdown",
      "source": [
        "**MODEL TRANING PHASE (LOGISTIC , SVM , NAIVE BAYES)**"
      ],
      "metadata": {
        "id": "aSHFtsVj9Fs8"
      }
    },
    {
      "cell_type": "code",
      "execution_count": null,
      "metadata": {
        "colab": {
          "base_uri": "https://localhost:8080/",
          "height": 74
        },
        "id": "mDR6p5nA_BvJ",
        "outputId": "45987422-e8d5-4b3d-b482-3e3f6b9f2ae6"
      },
      "outputs": [
        {
          "output_type": "execute_result",
          "data": {
            "text/plain": [
              "SVC(kernel='linear')"
            ],
            "text/html": [
              "<style>#sk-container-id-1 {color: black;background-color: white;}#sk-container-id-1 pre{padding: 0;}#sk-container-id-1 div.sk-toggleable {background-color: white;}#sk-container-id-1 label.sk-toggleable__label {cursor: pointer;display: block;width: 100%;margin-bottom: 0;padding: 0.3em;box-sizing: border-box;text-align: center;}#sk-container-id-1 label.sk-toggleable__label-arrow:before {content: \"▸\";float: left;margin-right: 0.25em;color: #696969;}#sk-container-id-1 label.sk-toggleable__label-arrow:hover:before {color: black;}#sk-container-id-1 div.sk-estimator:hover label.sk-toggleable__label-arrow:before {color: black;}#sk-container-id-1 div.sk-toggleable__content {max-height: 0;max-width: 0;overflow: hidden;text-align: left;background-color: #f0f8ff;}#sk-container-id-1 div.sk-toggleable__content pre {margin: 0.2em;color: black;border-radius: 0.25em;background-color: #f0f8ff;}#sk-container-id-1 input.sk-toggleable__control:checked~div.sk-toggleable__content {max-height: 200px;max-width: 100%;overflow: auto;}#sk-container-id-1 input.sk-toggleable__control:checked~label.sk-toggleable__label-arrow:before {content: \"▾\";}#sk-container-id-1 div.sk-estimator input.sk-toggleable__control:checked~label.sk-toggleable__label {background-color: #d4ebff;}#sk-container-id-1 div.sk-label input.sk-toggleable__control:checked~label.sk-toggleable__label {background-color: #d4ebff;}#sk-container-id-1 input.sk-hidden--visually {border: 0;clip: rect(1px 1px 1px 1px);clip: rect(1px, 1px, 1px, 1px);height: 1px;margin: -1px;overflow: hidden;padding: 0;position: absolute;width: 1px;}#sk-container-id-1 div.sk-estimator {font-family: monospace;background-color: #f0f8ff;border: 1px dotted black;border-radius: 0.25em;box-sizing: border-box;margin-bottom: 0.5em;}#sk-container-id-1 div.sk-estimator:hover {background-color: #d4ebff;}#sk-container-id-1 div.sk-parallel-item::after {content: \"\";width: 100%;border-bottom: 1px solid gray;flex-grow: 1;}#sk-container-id-1 div.sk-label:hover label.sk-toggleable__label {background-color: #d4ebff;}#sk-container-id-1 div.sk-serial::before {content: \"\";position: absolute;border-left: 1px solid gray;box-sizing: border-box;top: 0;bottom: 0;left: 50%;z-index: 0;}#sk-container-id-1 div.sk-serial {display: flex;flex-direction: column;align-items: center;background-color: white;padding-right: 0.2em;padding-left: 0.2em;position: relative;}#sk-container-id-1 div.sk-item {position: relative;z-index: 1;}#sk-container-id-1 div.sk-parallel {display: flex;align-items: stretch;justify-content: center;background-color: white;position: relative;}#sk-container-id-1 div.sk-item::before, #sk-container-id-1 div.sk-parallel-item::before {content: \"\";position: absolute;border-left: 1px solid gray;box-sizing: border-box;top: 0;bottom: 0;left: 50%;z-index: -1;}#sk-container-id-1 div.sk-parallel-item {display: flex;flex-direction: column;z-index: 1;position: relative;background-color: white;}#sk-container-id-1 div.sk-parallel-item:first-child::after {align-self: flex-end;width: 50%;}#sk-container-id-1 div.sk-parallel-item:last-child::after {align-self: flex-start;width: 50%;}#sk-container-id-1 div.sk-parallel-item:only-child::after {width: 0;}#sk-container-id-1 div.sk-dashed-wrapped {border: 1px dashed gray;margin: 0 0.4em 0.5em 0.4em;box-sizing: border-box;padding-bottom: 0.4em;background-color: white;}#sk-container-id-1 div.sk-label label {font-family: monospace;font-weight: bold;display: inline-block;line-height: 1.2em;}#sk-container-id-1 div.sk-label-container {text-align: center;}#sk-container-id-1 div.sk-container {/* jupyter's `normalize.less` sets `[hidden] { display: none; }` but bootstrap.min.css set `[hidden] { display: none !important; }` so we also need the `!important` here to be able to override the default hidden behavior on the sphinx rendered scikit-learn.org. See: https://github.com/scikit-learn/scikit-learn/issues/21755 */display: inline-block !important;position: relative;}#sk-container-id-1 div.sk-text-repr-fallback {display: none;}</style><div id=\"sk-container-id-1\" class=\"sk-top-container\"><div class=\"sk-text-repr-fallback\"><pre>SVC(kernel=&#x27;linear&#x27;)</pre><b>In a Jupyter environment, please rerun this cell to show the HTML representation or trust the notebook. <br />On GitHub, the HTML representation is unable to render, please try loading this page with nbviewer.org.</b></div><div class=\"sk-container\" hidden><div class=\"sk-item\"><div class=\"sk-estimator sk-toggleable\"><input class=\"sk-toggleable__control sk-hidden--visually\" id=\"sk-estimator-id-1\" type=\"checkbox\" checked><label for=\"sk-estimator-id-1\" class=\"sk-toggleable__label sk-toggleable__label-arrow\">SVC</label><div class=\"sk-toggleable__content\"><pre>SVC(kernel=&#x27;linear&#x27;)</pre></div></div></div></div></div>"
            ]
          },
          "metadata": {},
          "execution_count": 5
        }
      ],
      "source": [
        "\n",
        "from sklearn.linear_model import LogisticRegression\n",
        "from sklearn.naive_bayes import MultinomialNB\n",
        "from sklearn.svm import SVC\n",
        "\n",
        "# Initialize the classifiers\n",
        "logistic_regression = LogisticRegression(max_iter=1000)\n",
        "naive_bayes = MultinomialNB()\n",
        "svm = SVC(kernel='linear')\n",
        "\n",
        "# Train the classifiers\n",
        "logistic_regression.fit(X_train_tfidf, y_train)\n",
        "naive_bayes.fit(X_train_tfidf, y_train)\n",
        "svm.fit(X_train_tfidf, y_train)\n"
      ]
    },
    {
      "cell_type": "markdown",
      "source": [
        "**MODEL TESTING AND HYPERPARANETRIC TUNINH PHASE**"
      ],
      "metadata": {
        "id": "1l8ecbao9NuD"
      }
    },
    {
      "cell_type": "code",
      "execution_count": null,
      "metadata": {
        "id": "z2_QFdqR_JPS",
        "colab": {
          "base_uri": "https://localhost:8080/"
        },
        "outputId": "c6e34a3c-c0da-4852-8b5b-5dcc7fe45258"
      },
      "outputs": [
        {
          "output_type": "stream",
          "name": "stdout",
          "text": [
            "Logistic Regression Accuracy: 0.5844464944649447\n"
          ]
        },
        {
          "output_type": "stream",
          "name": "stderr",
          "text": [
            "/usr/local/lib/python3.10/dist-packages/sklearn/metrics/_classification.py:1344: UndefinedMetricWarning: Precision and F-score are ill-defined and being set to 0.0 in labels with no predicted samples. Use `zero_division` parameter to control this behavior.\n",
            "  _warn_prf(average, modifier, msg_start, len(result))\n",
            "/usr/local/lib/python3.10/dist-packages/sklearn/metrics/_classification.py:1344: UndefinedMetricWarning: Precision and F-score are ill-defined and being set to 0.0 in labels with no predicted samples. Use `zero_division` parameter to control this behavior.\n",
            "  _warn_prf(average, modifier, msg_start, len(result))\n",
            "/usr/local/lib/python3.10/dist-packages/sklearn/metrics/_classification.py:1344: UndefinedMetricWarning: Precision and F-score are ill-defined and being set to 0.0 in labels with no predicted samples. Use `zero_division` parameter to control this behavior.\n",
            "  _warn_prf(average, modifier, msg_start, len(result))\n"
          ]
        },
        {
          "output_type": "stream",
          "name": "stdout",
          "text": [
            "Logistic Regression Classification Report:\n",
            "               precision    recall  f1-score   support\n",
            "\n",
            "      action       0.48      0.28      0.36      1314\n",
            "       adult       0.58      0.23      0.33       590\n",
            "   adventure       0.56      0.15      0.24       775\n",
            "   animation       0.49      0.06      0.11       498\n",
            "   biography       0.00      0.00      0.00       264\n",
            "      comedy       0.52      0.58      0.55      7446\n",
            "       crime       0.31      0.03      0.06       505\n",
            " documentary       0.68      0.85      0.75     13096\n",
            "       drama       0.54      0.77      0.64     13612\n",
            "      family       0.47      0.08      0.14       783\n",
            "     fantasy       0.53      0.05      0.10       322\n",
            "   game-show       0.90      0.52      0.66       193\n",
            "     history       0.00      0.00      0.00       243\n",
            "      horror       0.64      0.56      0.60      2204\n",
            "       music       0.64      0.43      0.51       731\n",
            "     musical       0.24      0.02      0.03       276\n",
            "     mystery       0.38      0.01      0.02       318\n",
            "        news       0.67      0.06      0.10       181\n",
            "  reality-tv       0.53      0.20      0.29       883\n",
            "     romance       0.44      0.03      0.05       672\n",
            "      sci-fi       0.57      0.26      0.36       646\n",
            "       short       0.47      0.35      0.40      5072\n",
            "       sport       0.65      0.25      0.36       431\n",
            "   talk-show       0.58      0.17      0.26       391\n",
            "    thriller       0.39      0.14      0.20      1590\n",
            "         war       0.75      0.02      0.04       132\n",
            "     western       0.90      0.73      0.80      1032\n",
            "\n",
            "    accuracy                           0.58     54200\n",
            "   macro avg       0.52      0.25      0.30     54200\n",
            "weighted avg       0.56      0.58      0.55     54200\n",
            "\n",
            "Naive Bayes Accuracy: 0.5226014760147601\n"
          ]
        },
        {
          "output_type": "stream",
          "name": "stderr",
          "text": [
            "/usr/local/lib/python3.10/dist-packages/sklearn/metrics/_classification.py:1344: UndefinedMetricWarning: Precision and F-score are ill-defined and being set to 0.0 in labels with no predicted samples. Use `zero_division` parameter to control this behavior.\n",
            "  _warn_prf(average, modifier, msg_start, len(result))\n",
            "/usr/local/lib/python3.10/dist-packages/sklearn/metrics/_classification.py:1344: UndefinedMetricWarning: Precision and F-score are ill-defined and being set to 0.0 in labels with no predicted samples. Use `zero_division` parameter to control this behavior.\n",
            "  _warn_prf(average, modifier, msg_start, len(result))\n",
            "/usr/local/lib/python3.10/dist-packages/sklearn/metrics/_classification.py:1344: UndefinedMetricWarning: Precision and F-score are ill-defined and being set to 0.0 in labels with no predicted samples. Use `zero_division` parameter to control this behavior.\n",
            "  _warn_prf(average, modifier, msg_start, len(result))\n"
          ]
        },
        {
          "output_type": "stream",
          "name": "stdout",
          "text": [
            "Naive Bayes Classification Report:\n",
            "               precision    recall  f1-score   support\n",
            "\n",
            "      action       0.57      0.10      0.17      1314\n",
            "       adult       0.45      0.05      0.09       590\n",
            "   adventure       0.75      0.06      0.12       775\n",
            "   animation       0.00      0.00      0.00       498\n",
            "   biography       0.00      0.00      0.00       264\n",
            "      comedy       0.51      0.42      0.46      7446\n",
            "       crime       0.00      0.00      0.00       505\n",
            " documentary       0.57      0.87      0.69     13096\n",
            "       drama       0.46      0.83      0.59     13612\n",
            "      family       1.00      0.00      0.00       783\n",
            "     fantasy       0.00      0.00      0.00       322\n",
            "   game-show       0.97      0.31      0.46       193\n",
            "     history       0.00      0.00      0.00       243\n",
            "      horror       0.70      0.34      0.46      2204\n",
            "       music       0.75      0.15      0.25       731\n",
            "     musical       0.00      0.00      0.00       276\n",
            "     mystery       0.00      0.00      0.00       318\n",
            "        news       0.00      0.00      0.00       181\n",
            "  reality-tv       0.55      0.02      0.05       883\n",
            "     romance       0.00      0.00      0.00       672\n",
            "      sci-fi       0.61      0.04      0.08       646\n",
            "       short       0.59      0.12      0.19      5072\n",
            "       sport       0.83      0.08      0.14       431\n",
            "   talk-show       0.00      0.00      0.00       391\n",
            "    thriller       0.32      0.02      0.03      1590\n",
            "         war       0.00      0.00      0.00       132\n",
            "     western       0.95      0.62      0.75      1032\n",
            "\n",
            "    accuracy                           0.52     54200\n",
            "   macro avg       0.39      0.15      0.17     54200\n",
            "weighted avg       0.52      0.52      0.45     54200\n",
            "\n",
            "SVM Accuracy: 0.5854981549815498\n"
          ]
        },
        {
          "output_type": "stream",
          "name": "stderr",
          "text": [
            "/usr/local/lib/python3.10/dist-packages/sklearn/metrics/_classification.py:1344: UndefinedMetricWarning: Precision and F-score are ill-defined and being set to 0.0 in labels with no predicted samples. Use `zero_division` parameter to control this behavior.\n",
            "  _warn_prf(average, modifier, msg_start, len(result))\n",
            "/usr/local/lib/python3.10/dist-packages/sklearn/metrics/_classification.py:1344: UndefinedMetricWarning: Precision and F-score are ill-defined and being set to 0.0 in labels with no predicted samples. Use `zero_division` parameter to control this behavior.\n",
            "  _warn_prf(average, modifier, msg_start, len(result))\n"
          ]
        },
        {
          "output_type": "stream",
          "name": "stdout",
          "text": [
            "SVM Classification Report:\n",
            "               precision    recall  f1-score   support\n",
            "\n",
            "      action       0.43      0.35      0.39      1314\n",
            "       adult       0.57      0.34      0.43       590\n",
            "   adventure       0.48      0.20      0.28       775\n",
            "   animation       0.43      0.14      0.21       498\n",
            "   biography       0.00      0.00      0.00       264\n",
            "      comedy       0.52      0.58      0.55      7446\n",
            "       crime       0.24      0.05      0.08       505\n",
            " documentary       0.68      0.84      0.75     13096\n",
            "       drama       0.55      0.75      0.64     13612\n",
            "      family       0.47      0.10      0.16       783\n",
            "     fantasy       0.42      0.09      0.15       322\n",
            "   game-show       0.81      0.62      0.70       193\n",
            "     history       0.00      0.00      0.00       243\n",
            "      horror       0.64      0.58      0.61      2204\n",
            "       music       0.64      0.50      0.56       731\n",
            "     musical       0.26      0.03      0.06       276\n",
            "     mystery       0.35      0.02      0.04       318\n",
            "        news       0.67      0.10      0.17       181\n",
            "  reality-tv       0.49      0.24      0.32       883\n",
            "     romance       0.50      0.00      0.01       672\n",
            "      sci-fi       0.53      0.32      0.40       646\n",
            "       short       0.49      0.33      0.39      5072\n",
            "       sport       0.64      0.31      0.42       431\n",
            "   talk-show       0.56      0.24      0.33       391\n",
            "    thriller       0.39      0.15      0.21      1590\n",
            "         war       0.62      0.06      0.11       132\n",
            "     western       0.88      0.77      0.82      1032\n",
            "\n",
            "    accuracy                           0.59     54200\n",
            "   macro avg       0.49      0.29      0.33     54200\n",
            "weighted avg       0.56      0.59      0.55     54200\n",
            "\n"
          ]
        },
        {
          "output_type": "stream",
          "name": "stderr",
          "text": [
            "/usr/local/lib/python3.10/dist-packages/sklearn/metrics/_classification.py:1344: UndefinedMetricWarning: Precision and F-score are ill-defined and being set to 0.0 in labels with no predicted samples. Use `zero_division` parameter to control this behavior.\n",
            "  _warn_prf(average, modifier, msg_start, len(result))\n"
          ]
        }
      ],
      "source": [
        "y_pred_lr = logistic_regression.predict(X_test_tfidf)\n",
        "y_pred_nb = naive_bayes.predict(X_test_tfidf)\n",
        "y_pred_svm = svm.predict(X_test_tfidf)\n",
        "\n",
        "test_data_solution['PREDICTED_GENRE_LR'] = y_pred_lr\n",
        "test_data_solution['PREDICTED_GENRE_NB'] = y_pred_nb\n",
        "test_data_solution['PREDICTED_GENRE_SVM'] = y_pred_svm\n",
        "\n",
        "# Evaluate the models\n",
        "from sklearn.metrics import accuracy_score, classification_report\n",
        "\n",
        "# Calculate and print the evaluation metrics\n",
        "print(\"Logistic Regression Accuracy:\", accuracy_score(test_data_solution['GENRE'], test_data_solution['PREDICTED_GENRE_LR']))\n",
        "print(\"Logistic Regression Classification Report:\\n\", classification_report(test_data_solution['GENRE'], test_data_solution['PREDICTED_GENRE_LR']))\n",
        "\n",
        "print(\"Naive Bayes Accuracy:\", accuracy_score(test_data_solution['GENRE'], test_data_solution['PREDICTED_GENRE_NB']))\n",
        "print(\"Naive Bayes Classification Report:\\n\", classification_report(test_data_solution['GENRE'], test_data_solution['PREDICTED_GENRE_NB']))\n",
        "\n",
        "print(\"SVM Accuracy:\", accuracy_score(test_data_solution['GENRE'], test_data_solution['PREDICTED_GENRE_SVM']))\n",
        "print(\"SVM Classification Report:\\n\", classification_report(test_data_solution['GENRE'], test_data_solution['PREDICTED_GENRE_SVM']))\n"
      ]
    },
    {
      "cell_type": "markdown",
      "source": [
        "**REALTIME PREDICTION USING THE BEST FIT MODEL**"
      ],
      "metadata": {
        "id": "AOHDA9Pp9VkS"
      }
    },
    {
      "cell_type": "code",
      "source": [
        "def predict_genre(plot, model, vectorizer):\n",
        "    # Preprocess the plot\n",
        "    plot_cleaned = preprocess_text(plot)\n",
        "    # Convert to TF-IDF features\n",
        "    plot_tfidf = vectorizer.transform([plot_cleaned])\n",
        "    # Predict the genre\n",
        "    predicted_genre = model.predict(plot_tfidf)\n",
        "    return predicted_genre[0]\n",
        "\n",
        "plot = \"Things start to take an awry turn for a mild-mannered cafe owner, who gets caught in the crosshairs of a drug cartel.\"\n",
        "\n",
        "# Using the logistic regression model for prediction\n",
        "\n",
        "predicted_genre_lr = predict_genre(plot, logistic_regression, tfidf_vectorizer)\n",
        "print(\"Predicted Genre (Logistic Regression):\", predicted_genre_lr)"
      ],
      "metadata": {
        "colab": {
          "base_uri": "https://localhost:8080/"
        },
        "id": "GiO1eqEw6x7J",
        "outputId": "165eec51-f804-4533-8a7f-69dbed7db481"
      },
      "execution_count": null,
      "outputs": [
        {
          "output_type": "stream",
          "name": "stdout",
          "text": [
            "Predicted Genre (Logistic Regression): drama\n"
          ]
        }
      ]
    },
    {
      "cell_type": "code",
      "source": [
        "plot = \"A group of astronauts embark on a journey to the outer reaches of the solar system to find a new habitable planet after Earth becomes uninhabitable.\"\n",
        "\n",
        "# Using the logistic regression model for prediction\n",
        "\n",
        "predicted_genre_lr = predict_genre(plot, logistic_regression, tfidf_vectorizer)\n",
        "print(\"Predicted Genre (Logistic Regression):\", predicted_genre_lr)"
      ],
      "metadata": {
        "colab": {
          "base_uri": "https://localhost:8080/"
        },
        "id": "YfOJFnJh68WY",
        "outputId": "521af4d7-c412-4a0f-d32a-332070f0f53f"
      },
      "execution_count": null,
      "outputs": [
        {
          "output_type": "stream",
          "name": "stdout",
          "text": [
            "Predicted Genre (Logistic Regression): sci-fi\n"
          ]
        }
      ]
    },
    {
      "cell_type": "code",
      "source": [],
      "metadata": {
        "id": "6gxmUHgK7IJ7"
      },
      "execution_count": null,
      "outputs": []
    }
  ],
  "metadata": {
    "accelerator": "GPU",
    "colab": {
      "gpuType": "T4",
      "provenance": []
    },
    "kernelspec": {
      "display_name": "Python 3",
      "name": "python3"
    },
    "language_info": {
      "name": "python"
    }
  },
  "nbformat": 4,
  "nbformat_minor": 0
}